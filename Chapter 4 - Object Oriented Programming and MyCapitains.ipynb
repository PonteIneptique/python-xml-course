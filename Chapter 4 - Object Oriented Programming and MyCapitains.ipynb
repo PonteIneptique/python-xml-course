{
 "cells": [
  {
   "cell_type": "markdown",
   "metadata": {},
   "source": [
    "# Chapter 4: Object Oriented Programming and MyCapitains"
   ]
  },
  {
   "cell_type": "markdown",
   "metadata": {},
   "source": [
    "---"
   ]
  },
  {
   "cell_type": "markdown",
   "metadata": {},
   "source": [
    "## 1. Introduction to Object Oriented Programming\n",
    "\n",
    "**OOP, or Object Oriented Programming**, is a way to write your code. OOP is about code architecture : you define objects that will have instances. For example, the Aeneid text would be an instance of an object Text. OOP is about data modelling : when you think about an object, you need to think \"OK, so now that I have all these texts, what do they have in common ?\"\n",
    "\n",
    "For a Text, it's pretty simple : they have an author (even if it is anonymous), a title (most of the time), a date and a text body. Because texts exist in a vacuum, they have also an incarnation, which is usually realised through a specific method. The edition of the Aeneid available on Perseus, for example, has the following properties :\n",
    "\n",
    "- the method is \"digitized\"\n",
    "- the text is the text\n",
    "- the author is \"Virgil\"\n",
    "- the title is \"Aeneid\"\n",
    "- the age would be about 2000 years.\n",
    "\n",
    "What does this translate to in Python ?\n",
    "\n",
    "    Aeneid = Text(...) #\n",
    "    print(Aeneid.title) # would print \"Aeneid\"\n",
    "    print(Aeneid.author) # = \"Virgil\"\n",
    "    print(type(Aeneid)) # would print \"Text\"\n",
    "\n",
    "The good thing with objects is that the same object can have multiple instances. An **instance** is an emanation of an object, a version of it. Think about the object as a mold. With a mold you can create multiple objects of the same shape that you can paint with different colors. Those are called instances. The Aeneid is an instance of Text. But you could also choose Ovid's Amores :\n",
    "\n",
    "\n",
    "    Amores = Text(...) #\n",
    "    print(Amores.title) # would print \"Amores\"\n",
    "    print(Amores.author) # = \"Ovid\"\n",
    "\n",
    "In previous chapters we saw how one object actually has methods and properties (or attributes). **Properties** are value assigned to an object. They're accessible using a dot and the name of the property, such as `Aeneid.title`. **Methods** are functions that use all the information inside an object, *eg* Amores.read() should return a result such as :\n",
    "\n",
    "    Amores, Ovid\n",
    "    text...\n",
    "    \n",
    "To continue with objects, those objects can have children. This means not only do they inherit all the functionalities and properties of the parent, but you will also be able to specify some additional information. For example, Text could have two children named Scroll and Book. Scroll would automatically have a method property set to \"Hand\" and a new method transcript(), while Book would have \"Printed\" and ocr().\n",
    "\n",
    "One last thing : Object is a general name and is often mistaken with `Class`. Every object has a `class` : it is the blueprint of the object. To some extent, if an object is a mold, then the blueprint is the plan required to build that mold. They are so bound together that many people mistake one for the other. The `class` for text, on the other hand, would be responsible for the presence of properties and methods. "
   ]
  },
  {
   "cell_type": "markdown",
   "metadata": {},
   "source": [
    "![Classes and subclasses](images/Class.svg)"
   ]
  },
  {
   "cell_type": "markdown",
   "metadata": {},
   "source": [
    "## 2\\. Object in Python : class and \\_\\_init\\_\\_\n",
    "\n",
    "To define an object in Python, you will need to use the syntax `class NAME(object):` and give it something, such as a method. This is the minimum requirement (Mind the tabs !):"
   ]
  },
  {
   "cell_type": "code",
   "execution_count": null,
   "metadata": {
    "collapsed": true
   },
   "outputs": [],
   "source": [
    "class Animal(object):\n",
    "    def shout(self):\n",
    "        print(\"\")"
   ]
  },
  {
   "cell_type": "markdown",
   "metadata": {},
   "source": [
    "The class Animal in this case has a shout property. Did you see `self` ? Objects' methods require it : this refers to the instance itself. If Animal had a `.noise` property, `shout()` could use it like that :"
   ]
  },
  {
   "cell_type": "code",
   "execution_count": null,
   "metadata": {
    "collapsed": true
   },
   "outputs": [],
   "source": [
    "class Animal(object):\n",
    "    def shout(self):\n",
    "        print(self.noise)"
   ]
  },
  {
   "cell_type": "markdown",
   "metadata": {},
   "source": [
    "Now, if we'd like to create an Animal object, like Pluto the dog, we'd initiate the instance this way :"
   ]
  },
  {
   "cell_type": "code",
   "execution_count": null,
   "metadata": {
    "collapsed": true
   },
   "outputs": [],
   "source": [
    "Pluto = Animal()"
   ]
  },
  {
   "cell_type": "markdown",
   "metadata": {},
   "source": [
    "And we could call the method `shout()` this way :"
   ]
  },
  {
   "cell_type": "code",
   "execution_count": null,
   "metadata": {
    "collapsed": false
   },
   "outputs": [],
   "source": [
    "Pluto.shout()"
   ]
  },
  {
   "cell_type": "markdown",
   "metadata": {},
   "source": [
    "Damn, AttributeError. Of course ! We did not define our attribute \"noise\" anywhere ! But how do you define properties ? You have to define an \\_\\_init\\_\\_ function to initialise an instance. To do so, you would simply type :"
   ]
  },
  {
   "cell_type": "code",
   "execution_count": null,
   "metadata": {
    "collapsed": false
   },
   "outputs": [],
   "source": [
    "class Animal(object):\n",
    "    def __init__(self):\n",
    "        self.noise = \"Wahwah\"\n",
    "    def shout(self):\n",
    "        print(self.noise)\n",
    "\n",
    "Pluto = Animal()\n",
    "Pluto.shout()"
   ]
  },
  {
   "cell_type": "markdown",
   "metadata": {},
   "source": [
    "It definitely works better. But not all animals shout the same things. To avoid this issue, just remember that \\_\\_init\\_\\_ works like any other function and can take arguments !"
   ]
  },
  {
   "cell_type": "code",
   "execution_count": null,
   "metadata": {
    "collapsed": false
   },
   "outputs": [],
   "source": [
    "class Animal(object):\n",
    "    def __init__(self, name, noise=\"\"):\n",
    "        self.noise = noise\n",
    "        self.name  = name\n",
    "    def shout(self):\n",
    "        print(self.noise)\n",
    "\n",
    "Pluto = Animal(\"Pluto\", \"WahWah\")\n",
    "Pluto.shout()\n",
    "print(Pluto.name)"
   ]
  },
  {
   "cell_type": "markdown",
   "metadata": {},
   "source": [
    "** DIY ** \n",
    "\n",
    "Define a class Vehicle with a property \"wheels\" for the number of wheels, a property \"passengers\" for the number of maximal passengers. Create a method `enter(number)` where the number represents how many passengers want to use the vehicle : this method should return False if there are too many people ! Create two instances named `car` and `auto` and run the code in the second block !"
   ]
  },
  {
   "cell_type": "code",
   "execution_count": null,
   "metadata": {
    "collapsed": true
   },
   "outputs": [],
   "source": [
    "# Write your class here\n",
    "\n",
    "# Create your instances here"
   ]
  },
  {
   "cell_type": "code",
   "execution_count": null,
   "metadata": {
    "collapsed": false
   },
   "outputs": [],
   "source": [
    "#Run it to check it works \n",
    "\n",
    "if car.enter(2) is True:\n",
    "    print(\"We can use the car with two people\")\n",
    "if auto.enter(3) is True:\n",
    "    print(\" WHAT IS YOUR AUTO BRAND ?\") # Side-car does not count."
   ]
  },
  {
   "cell_type": "markdown",
   "metadata": {},
   "source": [
    "## 3\\. Inheritance, \\*args and \\*\\*kwargs\n",
    "\n",
    "We saw earlier that OOP was based on inheritance between objects. This is also obviously the case in Python, and we could create new subclasses for new animals. For example, Humans have many more methods when it comes to language, like speaking. A subclass is generated using the class name in parentheses, such as :"
   ]
  },
  {
   "cell_type": "code",
   "execution_count": null,
   "metadata": {
    "collapsed": false
   },
   "outputs": [],
   "source": [
    "class Human(Animal):\n",
    "    def say(self, something):\n",
    "        print(something)\n",
    "        \n",
    "Me = Human(name=\"Thibault\")\n",
    "Me.say(\"Hello !\")\n",
    "Me.say(\"My name is \"+Me.name)\n"
   ]
  },
  {
   "cell_type": "markdown",
   "metadata": {},
   "source": [
    "A subclass keeps every methods of its parent. In this case, the initialisation method has been kept because we did not overwrite it. Through, adding only methods is quite a small advantage, so less grow the properties !"
   ]
  },
  {
   "cell_type": "code",
   "execution_count": null,
   "metadata": {
    "collapsed": false
   },
   "outputs": [],
   "source": [
    "class Human(Animal):\n",
    "    def __init__(self, cloth):\n",
    "        self.cloth = cloth\n",
    "    def say(self, something):\n",
    "        print(something)\n",
    "        \n",
    "Me = Human(\"T-Shirt\")\n",
    "Me.say(\"Hello !\")\n",
    "Me.say(\"I wear \"+Me.cloth)"
   ]
  },
  {
   "cell_type": "markdown",
   "metadata": {},
   "source": [
    "Great, but what's my name then ?"
   ]
  },
  {
   "cell_type": "code",
   "execution_count": null,
   "metadata": {
    "collapsed": false
   },
   "outputs": [],
   "source": [
    "Me.name"
   ]
  },
  {
   "cell_type": "markdown",
   "metadata": {},
   "source": [
    "Obviously we got an AttributeError. You could add it to your current \\_\\_init\\_\\_ :"
   ]
  },
  {
   "cell_type": "code",
   "execution_count": null,
   "metadata": {
    "collapsed": false
   },
   "outputs": [],
   "source": [
    "class Human(Animal):\n",
    "    def __init__(self, cloth, name, noise=\"\"):\n",
    "        self.name = name\n",
    "        self.noise = noise\n",
    "        self.cloth = cloth\n",
    "    def say(self, something):\n",
    "        print(something)\n",
    "        \n",
    "Me = Human(\"T-Shirt\", \"Thibault\")\n",
    "print(Me.name)"
   ]
  },
  {
   "cell_type": "markdown",
   "metadata": {},
   "source": [
    "Through, this is not super practical and except keeping the methods... A class can call it's parent \\_\\_init\\_\\_ function :"
   ]
  },
  {
   "cell_type": "code",
   "execution_count": null,
   "metadata": {
    "collapsed": false
   },
   "outputs": [],
   "source": [
    "class Human(Animal):\n",
    "    def __init__(self, cloth, name, noise=\"\"):\n",
    "        super(Human, self).__init__(name, noise)\n",
    "        self.cloth = cloth\n",
    "    def say(self, something):\n",
    "        print(something)\n",
    "        \n",
    "Me = Human(\"T-Shirt\", \"Thibault\")\n",
    "print(Me.name)\n",
    "print(Me.cloth)"
   ]
  },
  {
   "cell_type": "markdown",
   "metadata": {},
   "source": [
    "The `super()` function takes two parameters : a class name, in this case `Human`, which is the class we are currently working on; an instance, in this case `self`, which represents the Human instance. After `super()`, we call the method \\_\\_init\\_\\_ of the parent class. `super` computes automatically the parent of the current class we fed it.\n",
    "\n",
    "After, \\_\\_init\\_\\_ takes just the same argument as it would have for Animal, in this case `name` and `noise`"
   ]
  },
  {
   "cell_type": "markdown",
   "metadata": {},
   "source": [
    "** \\*args and \\*\\*kwargs **\n",
    "\n",
    "The issue with `\\_\\_init\\_\\_()` and parent class is that you will spend quite a lot of time sending attributes. Python have two nices helpers: \\*args and \\*\\*kwargs. \n",
    "\n",
    "\\*args is a wildcard which allows you to replicate the order of arguments, without naming them in any way. Let's see :"
   ]
  },
  {
   "cell_type": "code",
   "execution_count": null,
   "metadata": {
    "collapsed": false
   },
   "outputs": [],
   "source": [
    "class A(object):\n",
    "    def __init__(self, b, c):\n",
    "        print(b)\n",
    "        print(c)\n",
    "        \n",
    "class B(A):\n",
    "    def __init__(self, a, b, c):\n",
    "        super(B, self).__init__(b, c)\n",
    "        print(a)\n",
    "        \n",
    "b = B(1,2,3) # Works normaly. Let's use *args now\n",
    "print(\"---\")\n",
    "\n",
    "class C(A):\n",
    "    def __init__(self, a, *args):\n",
    "        super(C, self).__init__(*args)\n",
    "        print(a)\n",
    "\n",
    "b = B(4,5,6) # Behaves the same wa"
   ]
  },
  {
   "cell_type": "markdown",
   "metadata": {},
   "source": [
    "**\\*args** behaves just like an infinite sized list of argument. It will keep the order of the argument given and will allow to feed other functions. Actually, it is really close to a list:"
   ]
  },
  {
   "cell_type": "code",
   "execution_count": null,
   "metadata": {
    "collapsed": false
   },
   "outputs": [],
   "source": [
    "# From http://stackoverflow.com/questions/3394835/args-and-kwargs/3394898#3394898\n",
    "def print_everything(*args):\n",
    "    for count, thing in enumerate(args):\n",
    "        print('{0}. {1}'.format(count, thing))\n",
    "\n",
    "print_everything(1,2,3,9,7,\"(\",\"hello\")"
   ]
  },
  {
   "cell_type": "markdown",
   "metadata": {},
   "source": [
    "The sameway \\*args behaves like a list of arguments, **\\*\\*kwargs** behaves like a dictionary of arguments. It means if some one pass an argument `a` not declared in your method or function signature, it will be automatically put to \\*\\*kwargs :"
   ]
  },
  {
   "cell_type": "code",
   "execution_count": null,
   "metadata": {
    "collapsed": false
   },
   "outputs": [],
   "source": [
    "class A(object):\n",
    "    def __init__(self, b, c):\n",
    "        print(b)\n",
    "        print(c)\n",
    "        \n",
    "class B(A):\n",
    "    def __init__(self, a, **kwargs):\n",
    "        super(B, self).__init__(**kwargs)\n",
    "        print(a)\n",
    "        \n",
    "b = B(7,b=8,c=9)"
   ]
  },
  {
   "cell_type": "markdown",
   "metadata": {},
   "source": [
    "And actually, we can see that it behaves like a dictionary :"
   ]
  },
  {
   "cell_type": "code",
   "execution_count": null,
   "metadata": {
    "collapsed": false
   },
   "outputs": [],
   "source": [
    "# From http://stackoverflow.com/questions/3394835/args-and-kwargs/3394898#3394898\n",
    "def table_things(**kwargs):\n",
    "    for name, value in kwargs.items():\n",
    "        print('{0} = {1}'.format(name, value))\n",
    "        \n",
    "table_things(a=1,b=2,c=3,d=4)"
   ]
  },
  {
   "cell_type": "markdown",
   "metadata": {},
   "source": [
    "The good thing with \\*args and \\*\\*kwargs is that they can work together :"
   ]
  },
  {
   "cell_type": "code",
   "execution_count": null,
   "metadata": {
    "collapsed": false
   },
   "outputs": [],
   "source": [
    "class A(object):\n",
    "    def __init__(self, b, c):\n",
    "        print(b)\n",
    "        print(c)\n",
    "        \n",
    "class B(A):\n",
    "    def __init__(self, a, *args, **kwargs):\n",
    "        super(B, self).__init__(*args, **kwargs)\n",
    "        print(a)\n",
    "b= B(4,\"args !\", c=\"kwargs !\")"
   ]
  },
  {
   "cell_type": "markdown",
   "metadata": {},
   "source": [
    "** DIY **\n",
    "\n",
    "Write out the subclass Baby for Human, with a parameter for age and a method called *cry* :"
   ]
  },
  {
   "cell_type": "code",
   "execution_count": null,
   "metadata": {
    "collapsed": true
   },
   "outputs": [],
   "source": [
    "# Write your code here"
   ]
  },
  {
   "cell_type": "markdown",
   "metadata": {},
   "source": [
    "## 4\\. Some practical functions\n",
    "\n",
    "Classes can have particular methods which greatly enhance the final object.\n",
    "\n",
    "**\\_\\_str\\_\\_()** provides a function to transform an object into a string. If, for example, you have an object representing a text, you could use a conversion function to recombine all the information together :"
   ]
  },
  {
   "cell_type": "code",
   "execution_count": null,
   "metadata": {
    "collapsed": false
   },
   "outputs": [],
   "source": [
    "class Text(object):\n",
    "    def __init__(self, text, author):\n",
    "        self.text = text\n",
    "        self.author = author\n",
    "    \n",
    "class TextSTR(Text):\n",
    "    def __str__(self):\n",
    "        return self.author + \" said : \\n\" + self.text\n",
    "    \n",
    "hello_normal = Text(\"Hello world\", \"I\")\n",
    "hello_string = TextSTR(\"Hello world\", \"I\")\n",
    "\n",
    "print(str(hello_normal))\n",
    "print(str(hello_string))"
   ]
  },
  {
   "cell_type": "markdown",
   "metadata": {},
   "source": [
    "**\\_\\_len\\_\\_()** provides a required method for the object to have a length. To be able to do `len(instance)`, you need to specify this method. The implementation of what this refers to is up to you :"
   ]
  },
  {
   "cell_type": "code",
   "execution_count": null,
   "metadata": {
    "collapsed": false
   },
   "outputs": [],
   "source": [
    "class Vehicle(object):\n",
    "    def __init__(self, wheels, passengers):\n",
    "        self.wheels=wheels\n",
    "        self.passengers=passengers\n",
    "        \n",
    "    def __len__(self):\n",
    "        \"\"\" Return the number of wheels \"\"\"\n",
    "        return self.wheels\n",
    "    \n",
    "class Text(object):\n",
    "    def __init__(self, text, author):\n",
    "        self.text = text\n",
    "        self.author = author\n",
    "    def __len__(self):\n",
    "        \"\"\" Return length of the text attribute \"\"\"\n",
    "        return len(self.text)\n",
    "    \n",
    "moto = Vehicle(2, 2)\n",
    "print(len(moto))\n",
    "\n",
    "lorem = Text(\"Lorem ipsum dolor sit amet, consectetur, adipisci velit\", \"Pseudo-Cicero\")\n",
    "print(len(lorem))"
   ]
  },
  {
   "cell_type": "markdown",
   "metadata": {},
   "source": [
    "**\\_\\_eq\\_\\_()** provides a way to ensure equality between two objects. This will tend to be useful for you when you have to compare complex objects :"
   ]
  },
  {
   "cell_type": "code",
   "execution_count": null,
   "metadata": {
    "collapsed": false
   },
   "outputs": [],
   "source": [
    "class Text(object):\n",
    "    def __init__(self, text, author):\n",
    "        self.text = text\n",
    "        self.author = author\n",
    "    def __eq__(self, other):\n",
    "        \"\"\" Return length of the text attribute \"\"\"\n",
    "        return isinstance(other, Text) and self.text == other.text and self.author == other.author\n",
    "    \n",
    "\n",
    "lorem = Text(\"Lorem ipsum dolor sit amet, consectetur, adipisci velit\", \"Pseudo-Cicero\")\n",
    "ipsum = Text(\"Lorem ipsum dolor sit amet, consectetur, adipisci velit\", \"Pseudo-Cicero\")\n",
    "hello = Text(\"Hello world\", \"Pseudo-Cicero\")\n",
    "lorem_ipsum = \"Lorem ipsum dolor sit amet, consectetur, adipisci velit\"\n",
    "\n",
    "print(\"lorem == ipsum is\", lorem == ipsum) # True because they have instance of same object\n",
    "print(\"lorem == hello is\", lorem == hello) # False because they have not the same text attribute\n",
    "print(\"lorem == lorem_ipsum is\", lorem == lorem_ipsum) # False because one is a string and the other a Text instance\n",
    "print(\"ipsum == ipsum is\", ipsum == ipsum) # One object should always be equal to itself through"
   ]
  },
  {
   "cell_type": "markdown",
   "metadata": {},
   "source": [
    "**\\_\\_gt\\_\\_()** and **\\_\\_lt\\_\\_()** stand for *greater than* and *lower than*. It provides a functionality to compare objects, disconnected from their length :"
   ]
  },
  {
   "cell_type": "code",
   "execution_count": null,
   "metadata": {
    "collapsed": false
   },
   "outputs": [],
   "source": [
    "class MyAuthors(object):\n",
    "    def __init__(self, name, works, score):\n",
    "        self.name = name\n",
    "        self.works = works\n",
    "        self.score = score\n",
    "        \n",
    "    def __len__(self):\n",
    "        return len(self.works)\n",
    "    \n",
    "    def __gt__(self, other):\n",
    "        return self.score > other.score\n",
    "    \n",
    "    def __lt__(self, other):\n",
    "        return self.score < other.score\n",
    "        \n",
    "cicero = MyAuthors(\"Cicero\", 45, 6)\n",
    "virgil = MyAuthors(\"Virgil\", 10, 8)\n",
    "caesar = MyAuthors(\"Caesar\", 4, 5)\n",
    "\n",
    "print(\"I like less Caesar than Cicero :\", caesar < cicero)\n",
    "print(\"I like more Virgil than Cicero :\", virgil > cicero)"
   ]
  },
  {
   "cell_type": "markdown",
   "metadata": {},
   "source": [
    "## Going further\n",
    "\n",
    "- A StackOverflow post about \\*args and \\*\\*kwargs, http://stackoverflow.com/a/3394898/2390493\n",
    "- Official function documentation, https://docs.python.org/3/tutorial/controlflow.html#more-on-defining-functions"
   ]
  },
  {
   "cell_type": "markdown",
   "metadata": {},
   "source": [
    "##Exercises :"
   ]
  },
  {
   "cell_type": "markdown",
   "metadata": {},
   "source": [
    "**1\\.** Transform the diagram explaining objects into Python. Function read should return the text, quote should take 2 integers that return the passage of a text. Don't worry about preserve(), transcript(), and ocr()."
   ]
  },
  {
   "cell_type": "code",
   "execution_count": null,
   "metadata": {
    "collapsed": true
   },
   "outputs": [],
   "source": [
    "# Write your code here"
   ]
  },
  {
   "cell_type": "markdown",
   "metadata": {},
   "source": [
    "**2\\.** Create a class having a property x and y named \"Point\". When printed, it would show \"(x,y)\" and one Point would be bigger if both its x and y are greater than the other Point."
   ]
  },
  {
   "cell_type": "code",
   "execution_count": null,
   "metadata": {
    "collapsed": true
   },
   "outputs": [],
   "source": []
  },
  {
   "cell_type": "markdown",
   "metadata": {},
   "source": [
    "**3\\.** MyCapytain is an implementation of CTS norms into Python. CTS split texts into passages, which are made of an identifier and a text body.\n",
    "\n",
    "\n",
    "Create a Text object that takes an ordered dict and registers each passages internally. When casted to a string, it should returns the text with identifiers and line breaks such as the following :\n",
    "\n",
    "a. is a letter\n",
    "\n",
    "b. is also a letter"
   ]
  },
  {
   "cell_type": "code",
   "execution_count": null,
   "metadata": {
    "collapsed": false
   },
   "outputs": [],
   "source": [
    "from collections import OrderedDict\n",
    "#Write your code here :\n",
    "\n",
    "# Test the results\n",
    "dic = DictText(\n",
    "    OrderedDict(\n",
    "        [\n",
    "            (\"a\", \" is a letter\"),\n",
    "            (\"b\", \" is also a letter\")\n",
    "        ]\n",
    "    )\n",
    ")\n",
    "print(str(dic) == \"a. is a letter\\nb. is also a letter\")"
   ]
  },
  {
   "cell_type": "markdown",
   "metadata": {},
   "source": [
    "**4\\.** Using and updating the previous class, create a new class Text which will create xml elements based on the first init parameter in the form of an xpath regexp"
   ]
  },
  {
   "cell_type": "code",
   "execution_count": null,
   "metadata": {
    "collapsed": false
   },
   "outputs": [],
   "source": [
    "from collections import OrderedDict\n",
    "from lxml import etree\n",
    "#Write your code here :\n",
    "\n",
    "# Test the results\n",
    "dic = DictText(\n",
    "    \"/lg/l[@n=$1]\",\n",
    "    OrderedDict(\n",
    "        [\n",
    "            (\"a\", \" is a letter\"),\n",
    "            (\"b\", \" is also a letter\")\n",
    "        ]\n",
    "    )\n",
    ")\n",
    "\n",
    "print(etree.tostring(dic.xml(), encoding=str))\n",
    "# <l n='a'> is a letter</l>\n",
    "# <l n='b'> is also a letter</l>"
   ]
  },
  {
   "cell_type": "markdown",
   "metadata": {},
   "source": [
    "**5\\.** Using and updating the previous class, create a new class Text which will create xml elements based on the first init parameter in the form of an xpath regexp taking into account a list of references for the tree.\n",
    "\n",
    "- a\n",
    "    - 1\n",
    "    - 2\n",
    "- b\n",
    "    - 1"
   ]
  },
  {
   "cell_type": "code",
   "execution_count": null,
   "metadata": {
    "collapsed": false
   },
   "outputs": [],
   "source": [
    "from collections import OrderedDict\n",
    "from lxml import etree\n",
    "#Write your code here :\n",
    "\n",
    "# Test the results\n",
    "dic = DictText(\n",
    "    \"/root/div[@n=$1]/l[@n=$2]\",\n",
    "    OrderedDict(\n",
    "        [\n",
    "            (\"a.1\", \" is the first definition of a letter\"),\n",
    "            (\"a.2\", \" is the second definition of a letter\"),\n",
    "            (\"b.1\", \" is the first definition of b letter\"),\n",
    "            (\"b.2\", \" is the second definition of b letter\")\n",
    "        ]\n",
    "    )\n",
    ")\n",
    "\n",
    "print(etree.tostring(dic.xml(), encoding=str))"
   ]
  },
  {
   "cell_type": "markdown",
   "metadata": {},
   "source": [
    "-----"
   ]
  },
  {
   "cell_type": "code",
   "execution_count": null,
   "metadata": {
    "collapsed": false
   },
   "outputs": [],
   "source": [
    "# Don't worry about this cell, it's just here to make the page nicer.\n",
    "\n",
    "from IPython.core.display import HTML\n",
    "def css_styling():\n",
    "    styles = open(\"styles/custom.css\", \"r\").read()\n",
    "    return HTML(styles)\n",
    "css_styling()"
   ]
  },
  {
   "cell_type": "markdown",
   "metadata": {},
   "source": [
    "---"
   ]
  },
  {
   "cell_type": "markdown",
   "metadata": {},
   "source": [
    "<p><small><a rel=\"license\" href=\"http://creativecommons.org/licenses/by-sa/4.0/\"><img alt=\"Creative Commons License\" style=\"border-width:0\" src=\"https://i.creativecommons.org/l/by-sa/4.0/88x31.png\" /></a><br /><span xmlns:dct=\"http://purl.org/dc/terms/\" property=\"dct:title\">Python Programming for the Humanities</span> by <a xmlns:cc=\"http://creativecommons.org/ns#\" href=\"http://fbkarsdorp.github.io/python-course\" property=\"cc:attributionName\" rel=\"cc:attributionURL\">http://fbkarsdorp.github.io/python-course</a> is licensed under a <a rel=\"license\" href=\"http://creativecommons.org/licenses/by-sa/4.0/\">Creative Commons Attribution-ShareAlike 4.0 International License</a>. Based on a work at <a xmlns:dct=\"http://purl.org/dc/terms/\" href=\"https://github.com/fbkarsdorp/python-course\" rel=\"dct:source\">https://github.com/fbkarsdorp/python-course</a>.</small></p>"
   ]
  }
 ],
 "metadata": {
  "kernelspec": {
   "display_name": "Python 3",
   "language": "python",
   "name": "python3"
  },
  "language_info": {
   "codemirror_mode": {
    "name": "ipython",
    "version": 3
   },
   "file_extension": ".py",
   "mimetype": "text/x-python",
   "name": "python",
   "nbconvert_exporter": "python",
   "pygments_lexer": "ipython3",
   "version": "3.4.3"
  }
 },
 "nbformat": 4,
 "nbformat_minor": 0
}
