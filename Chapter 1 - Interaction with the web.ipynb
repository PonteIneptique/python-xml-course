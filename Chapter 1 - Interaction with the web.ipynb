{
 "cells": [
  {
   "cell_type": "markdown",
   "metadata": {},
   "source": [
    "# Chapter 1: Interaction with the web"
   ]
  },
  {
   "cell_type": "markdown",
   "metadata": {},
   "source": [
    "## 1. The WEB architecture"
   ]
  },
  {
   "cell_type": "markdown",
   "metadata": {},
   "source": [
    "Webpages and APIs offer an incredible amount of data for researchers, be it literature texts, statistics or tweets, and are central to the development of research in the Digital Humanities. The difference between a webpage and an API is the presentation of the data : while webpages are encapsulated in HTML, which is a markup language oriented for design, APIs' content are described by their markup in RDF formats, in XML or in JSON.\n",
    "\n",
    "The world wide web is organized around http. [HTTP](https://httpwg.github.io/specs/rfc7540.html) defines the way computers, whether servers or clients, communicate with one another. There are 4 methods you should know :\n",
    "- GET : this is the base method for http communication. You can pass parameters to request what you want to see. You use it when you search or when you open a webpage.\n",
    "- POST : this sends data to the server, to update or save information. You use it when you sign up for or log into a website.\n",
    "- DELETE : this suppresses information.\n",
    "- PUT : this saves a new resource on a server.\n",
    "\n",
    "When browsing the web you'll use the first method 90% of the time, the second one 9.99 % and the remaining two maybe once a year. But those same websites you visit probably use those last two and others listed on the [w3c](http://www.w3.org/Protocols/rfc2616/rfc2616-sec9.html) website every second or minute. Most of the time these websites use what's called a REST API."
   ]
  },
  {
   "cell_type": "markdown",
   "metadata": {},
   "source": [
    "![REST API](images/rest.png)"
   ]
  },
  {
   "cell_type": "markdown",
   "metadata": {},
   "source": [
    "Now that we have a general idea of how the web is constructed, let's get started with python."
   ]
  },
  {
   "cell_type": "markdown",
   "metadata": {},
   "source": [
    "## 2. Python and the web : getting a page"
   ]
  },
  {
   "cell_type": "markdown",
   "metadata": {},
   "source": [
    "As you've seen, Python is extremely modular. That means that we'll be using modules to query the web. There are many possibilities, but the one we'll be using is `requests`. To import a library, write the following :"
   ]
  },
  {
   "cell_type": "code",
   "execution_count": 1,
   "metadata": {
    "collapsed": true
   },
   "outputs": [],
   "source": [
    "import requests"
   ]
  },
  {
   "cell_type": "markdown",
   "metadata": {},
   "source": [
    "This line will allow you to query the web. For example, the following lines of code will query the [CTS API](http://cite-architecture.github.io/cts_spec/) of Perseus. Execute it :"
   ]
  },
  {
   "cell_type": "code",
   "execution_count": null,
   "metadata": {
    "collapsed": false
   },
   "outputs": [],
   "source": [
    "url = \"http://services2.perseids.org/exist/restxq/cts?request=GetCapabilities&inv=latin\"\n",
    "response = requests.get(url)\n",
    "print(response)"
   ]
  },
  {
   "cell_type": "markdown",
   "metadata": {},
   "source": [
    "Can you explain what we just did ? Or why the printed result is `<Response [200]>` ?\n",
    "\n",
    "Explanation : after setting up a `url` variable, we used the function `get()` from the library `requests`. This function takes as its first parameter a string representing a URL. This function performs a GET query on the url, according to http standards. We then receive a response from the server with the following information : \n",
    "- a code, which expresses the status of the request. You might not know 200, because it means \"everything went well\", but I'm sure you've seen 404. For more codes, see the list on [wikipedia](https://en.wikipedia.org/wiki/List_of_HTTP_status_codes)\n",
    "- a header, which tells us about the content of the response.\n",
    "- a body, which is what the HTML you see would be."
   ]
  },
  {
   "cell_type": "markdown",
   "metadata": {},
   "source": [
    "The result of a query with `requests` contains all that information:\n",
    "- `response.status_code` represents the status of a query\n",
    "- `response.headers` is a dictionary containing the headers\n",
    "- `response.text` is the content of the body."
   ]
  },
  {
   "cell_type": "code",
   "execution_count": null,
   "metadata": {
    "collapsed": false
   },
   "outputs": [],
   "source": [
    "# Let's see our headers :\n",
    "print(response.headers)"
   ]
  },
  {
   "cell_type": "code",
   "execution_count": null,
   "metadata": {
    "collapsed": false
   },
   "outputs": [],
   "source": [
    "# And the few first characters of our text :\n",
    "print(response.text[0:100])"
   ]
  },
  {
   "cell_type": "markdown",
   "metadata": {},
   "source": [
    "Great ! It works ! So maybe it's time to do a request.\n",
    "\n",
    "**DIY**\n",
    "\n",
    "We will use the API of Perseids to get the famous first verse of the Aeneid. The text of the answer is contained between two tags `tei:l`. Can you query this page : \"http://services2.perseids.org/exist/restxq/cts?request=GetPassage&inv=nemo&urn=urn:cts:latinLit:phi0959.phi001.perseus-lat2:1.1.1\" ?"
   ]
  },
  {
   "cell_type": "code",
   "execution_count": null,
   "metadata": {
    "collapsed": true
   },
   "outputs": [],
   "source": [
    "# Write your code here"
   ]
  },
  {
   "cell_type": "markdown",
   "metadata": {},
   "source": [
    "## 3. Passing parameters to the web"
   ]
  },
  {
   "cell_type": "markdown",
   "metadata": {},
   "source": [
    "Now that we have seen the basic usage of the `requests.get()` function, it's time to heat things up a little. At some point, you'll probably face a loop such as the following :\n",
    "\n",
    "- Get page 1 of text A\n",
    "- Get page 2 of text A\n",
    "- ...\n",
    "- Get page 24 of text D\n",
    "\n",
    "And constructing URL is far from fun. Thankfully, `requests` graciously offers us a way to deal with that: the named argument `params`. Let's see how the previous query could have been done using `requests` :"
   ]
  },
  {
   "cell_type": "code",
   "execution_count": null,
   "metadata": {
    "collapsed": false
   },
   "outputs": [],
   "source": [
    "baseurl = \"http://services2.perseids.org/exist/restxq/cts\"\n",
    "parameters = {\n",
    "        \"request\" : \"GetPassage\",\n",
    "        \"inv\": \"nemo\",\n",
    "        \"urn\": \"urn:cts:latinLit:phi0959.phi001.perseus-lat2:1.1.1\"\n",
    "    }\n",
    "response = requests.get(baseurl, params=parameters)"
   ]
  },
  {
   "cell_type": "markdown",
   "metadata": {},
   "source": [
    "`params` takes a dictionary as value. Key of the dictionaries are the name of the URL parameters, value are the value. Plain and simple. To check that the query is correct, we can print the url using another attribute of the response we haven't seen before :"
   ]
  },
  {
   "cell_type": "code",
   "execution_count": null,
   "metadata": {
    "collapsed": false
   },
   "outputs": [],
   "source": [
    "print(response.url)"
   ]
  },
  {
   "cell_type": "markdown",
   "metadata": {},
   "source": [
    "Now that we have a nice way to add simple params, the next question is how to add a list as params. You might find yourself in a situation where you require one argument with few values. The web has a way to deal with that : it appends a suffix to its parameter with `[]` or simply uses the normal name few times in the same url."
   ]
  },
  {
   "cell_type": "code",
   "execution_count": 19,
   "metadata": {
    "collapsed": true
   },
   "outputs": [],
   "source": [
    "# Example 1\n",
    "params = {\n",
    "        \"key\" : [\"a\", \"b\"]\n",
    "    }\n",
    "# Example 2\n",
    "params = {\n",
    "        \"key[]\" : [\"a\", \"b\"]\n",
    "    }"
   ]
  },
  {
   "cell_type": "markdown",
   "metadata": {},
   "source": [
    "**Headers**\n",
    "\n",
    "We have seen that http responses have headers. Did you know that requests do, too ? Headers in http are used to transmit various information, like the version of your software when browsing.\n",
    "\n",
    "What good is that to us ? In some cases, you'll need to use those headers to request a particular format of data. For example, the Ahab API of Perseids can output both xml and json. The standard format is json, but what about getting xml ? The same way that methods functions have a `params` argument, they also accept a `header` argument :\n"
   ]
  },
  {
   "cell_type": "code",
   "execution_count": null,
   "metadata": {
    "collapsed": false
   },
   "outputs": [],
   "source": [
    "url = \"http://www.perseids.org/apps-stage/ahab/rest/v1.0/search\"\n",
    "parameters = {\n",
    "    \"query\" : \"cicero\",\n",
    "    \"urn\" : \"urn:cts:latinLit\"\n",
    "}\n",
    "header = {\n",
    "    \"Accept\" : \"application/xml\"\n",
    "}\n",
    "answer_1 = requests.get(url, params=parameters)\n",
    "# Note that you can keep params and headers together\n",
    "answer_2 = requests.get(url, params=parameters, headers=header)\n",
    "\n",
    "\n",
    "print(\"Without headers\")\n",
    "print(\"Content type : \" + answer_1.headers[\"Content-Type\"])\n",
    "print(answer_1.text[0:100])\n",
    "print(\"-----\")\n",
    "print(\"With headers\")\n",
    "print(\"Content type : \" + answer_2.headers[\"Content-Type\"])\n",
    "print(answer_2.text[0:100])\n"
   ]
  },
  {
   "cell_type": "markdown",
   "metadata": {},
   "source": [
    "**Files**\n",
    "\n",
    "Sending a file works in a similar way. In your params, simply add an IO instance of an object, *ie* open it. The python library will take care of the rest and transmit the data."
   ]
  },
  {
   "cell_type": "code",
   "execution_count": null,
   "metadata": {
    "collapsed": false
   },
   "outputs": [],
   "source": [
    "# DO NOT RUN THIS CELL\n",
    "url = \"https://api.imgur.com/3/image\"\n",
    "params = {\n",
    "        # The imgur API takes a image parameter with a file in it\n",
    "        \"image\" : open(\"images/leonardo.jpg\", \"rb\")\n",
    "    }\n",
    "answer = requests.post(url, params)"
   ]
  },
  {
   "cell_type": "markdown",
   "metadata": {},
   "source": [
    "** What you have learned ** \n",
    "\n",
    "- Importing requests module\n",
    "- HTTP Methods\n",
    "- Difference between API and Webpage\n",
    "- Querying a resource with `requests`\n",
    "    - Adding parameters\n",
    "    - Adding headers\n",
    "- Reading the response of a request:\n",
    "    - Reading the text\n",
    "    - Status codes\n",
    "    - Headers"
   ]
  },
  {
   "cell_type": "markdown",
   "metadata": {},
   "source": [
    "## 4. Getting JSON out of APIs"
   ]
  },
  {
   "cell_type": "markdown",
   "metadata": {},
   "source": [
    "Most of the time you'll encounter two data formats: xml and json, be it rdf or just proprietary descriptions. While XML is a bit more complex to deal with, JSON is quite simple. How so ? JSON is like a dictionary or a list in Python."
   ]
  },
  {
   "cell_type": "markdown",
   "metadata": {},
   "source": [
    "> JSON (/ˈdʒeɪsən/ JAY-sən),[1] or JavaScript Object Notation, is an open standard format that uses human-readable text to transmit data objects consisting of attribute–value pairs. It is used primarily to transmit data between a server and web application, as an alternative to XML.\n",
    "\n",
    "> Although originally derived from the JavaScript scripting language, JSON is a language-independent data format. Code for parsing and generating JSON data is readily available in many programming languages.\n",
    "\n",
    "> The JSON format was originally specified by Douglas Crockford. It is currently described by two competing standards, RFC 7159 and ECMA-404. The ECMA standard is minimal, describing only the allowed grammar syntax, whereas the RFC also provides some semantic and security considerations.[2] The official Internet media type for JSON is application/json. The JSON filename extension is .json.\n",
    "\n",
    "\\- https://en.wikipedia.org/wiki/JSON"
   ]
  },
  {
   "cell_type": "markdown",
   "metadata": {},
   "source": [
    "Let's see how we would call an API and read its json. Do you know Github ? Github is a platform for collaborating and versioning its code base. It offers a User Interface with extension regarding git. For example, we can open debug or enhancement tickets called issues. Those issues can then be tracked during commit, pull request (asking to merge changes into the main codebase), etc.\n",
    "\n",
    "Github is one of the few large websites whose API does not require authentification for every request. For example, you can easily get the issues from the former repository of Perseus texts:"
   ]
  },
  {
   "cell_type": "code",
   "execution_count": null,
   "metadata": {
    "collapsed": false
   },
   "outputs": [],
   "source": [
    "url = \"https://api.github.com/repos/perseusDL/canonical/issues\"\n",
    "response = requests.get(url)\n",
    "print(response.text[0:100])"
   ]
  },
  {
   "cell_type": "markdown",
   "metadata": {},
   "source": [
    "As you can see, the request is json. Now, we can simply transform this object into a python object through another method of the requests response:"
   ]
  },
  {
   "cell_type": "code",
   "execution_count": null,
   "metadata": {
    "collapsed": false
   },
   "outputs": [],
   "source": [
    "# Such as .text or .headers, requests produces an object with a function json()\n",
    "answer = response.json()\n",
    "print(type(answer))"
   ]
  },
  {
   "cell_type": "markdown",
   "metadata": {},
   "source": [
    "Github's API answers with a list of issues that are themselves dictionary. To get the title and the text of the first issue, we write the following :"
   ]
  },
  {
   "cell_type": "code",
   "execution_count": null,
   "metadata": {
    "collapsed": false
   },
   "outputs": [],
   "source": [
    "print(\"Title : \" + answer[1][\"title\"])\n",
    "print(\"Body  : \" + answer[1][\"body\"])"
   ]
  },
  {
   "cell_type": "markdown",
   "metadata": {},
   "source": [
    "**DIY**\n",
    "\n",
    "Without opening the Github website, can you find how many open issues there are in the repository [*Capitains/MyCapytains*](https://github.com/Capitains/MyCapytain) ? Can you list the usernames of everyone who's opened issues (without duplicates !) ? (Hint : the API is built using the following URL namespace api.github.com/repos/*username*/*repo-name*/issues)"
   ]
  },
  {
   "cell_type": "code",
   "execution_count": 8,
   "metadata": {
    "collapsed": true
   },
   "outputs": [],
   "source": [
    "# Put your code here"
   ]
  },
  {
   "cell_type": "markdown",
   "metadata": {},
   "source": [
    "## 5. Handling errors"
   ]
  },
  {
   "cell_type": "markdown",
   "metadata": {},
   "source": [
    "The web is great; Python is great. But sometimes, despite their greatness, Python or the web will fail you. Regardless whether it's your fault or the server's, you will encounter a situation where you're simply unable to retrieve information. To deal with that, there's a general system in Python called error handling.\n",
    "\n",
    "In Python, you have already probably seen errors, such as the one created by following snippet :"
   ]
  },
  {
   "cell_type": "code",
   "execution_count": null,
   "metadata": {
    "collapsed": false
   },
   "outputs": [],
   "source": [
    "a = 5/0"
   ]
  },
  {
   "cell_type": "markdown",
   "metadata": {},
   "source": [
    "To deal with that, Python and most languages use the concept of \"Try\". `Try` will attempt to run your code, and if it doesn't work, it won't stop the rest of your code from being processed. `Try` needs to be accompanied by its counterpart `except`, which tells the computer what to execute in case of failure."
   ]
  },
  {
   "cell_type": "code",
   "execution_count": null,
   "metadata": {
    "collapsed": false,
    "scrolled": true
   },
   "outputs": [],
   "source": [
    "try:\n",
    "    a = 3 / 0\n",
    "except:\n",
    "    pass # pass means : do nothing, just let it go\n",
    "print(\"Hello\")"
   ]
  },
  {
   "cell_type": "markdown",
   "metadata": {},
   "source": [
    "This is really powerful, and you'll use it often. To go a little further, `except` takes slightly more complex syntax if required."
   ]
  },
  {
   "cell_type": "code",
   "execution_count": null,
   "metadata": {
    "collapsed": false,
    "scrolled": true
   },
   "outputs": [],
   "source": [
    "try:\n",
    "    a = 3 / 0\n",
    "except NotImplementedError:\n",
    "    print(\"This function is not implemented\")\n",
    "except ZeroDivisionError:\n",
    "    print(\"Error when tried to divide by zero\")"
   ]
  },
  {
   "cell_type": "markdown",
   "metadata": {},
   "source": [
    "As you can see, only the second print is executed here. You can pass a specific error name to except to handle error according to its type. Here, the first is an error raised when something is not implemented, the second is raised when trying to divide by zero."
   ]
  },
  {
   "cell_type": "code",
   "execution_count": null,
   "metadata": {
    "collapsed": false
   },
   "outputs": [],
   "source": [
    "try:\n",
    "    a = 3 / 0\n",
    "except Exception as e:\n",
    "    print(e)"
   ]
  },
  {
   "cell_type": "markdown",
   "metadata": {},
   "source": [
    "Exception is the mother of all errors : in Python, all errors are descendants of it. It means with this snippet, you will handle any exception, regardless of type. What we've also done is captured the error. The syntax `except Exception as X` stores the current error in a variable named e that we simply print."
   ]
  },
  {
   "cell_type": "markdown",
   "metadata": {},
   "source": [
    "`requests` can issue some specific error to its core, for example, when a server is down, it will raise a `requests.exceptions.ConnectionError`, while a bad http code such as 404 or 400 will raise a `requests.exceptions.HTTPError`."
   ]
  },
  {
   "cell_type": "code",
   "execution_count": null,
   "metadata": {
    "collapsed": false,
    "scrolled": true
   },
   "outputs": [],
   "source": [
    "try:\n",
    "    requests.get(\"http://thissitedoesnotexist.digitalhumanities\")\n",
    "except requests.exceptions.ConnectionError as E:\n",
    "    print(E)"
   ]
  },
  {
   "cell_type": "markdown",
   "metadata": {},
   "source": [
    "In addition to common errors, `requests` gives the ability to raise errors if the status code is wrong with the method `raise_for_status()` (The same way *json()* transformed data into python objects) :"
   ]
  },
  {
   "cell_type": "code",
   "execution_count": null,
   "metadata": {
    "collapsed": false
   },
   "outputs": [],
   "source": [
    "url = \"https://httpbin.org/status/500\"\n",
    "\n",
    "response = requests.get(url)\n",
    "try:\n",
    "    response.raise_for_status() #\n",
    "except requests.exceptions.HTTPError as E:\n",
    "    print(E)"
   ]
  },
  {
   "cell_type": "markdown",
   "metadata": {},
   "source": [
    "** DIY **\n",
    "\n",
    "Call the url \"https://fr.wikipedia.org/wieki/Erreur_HTTP_404\". Make sure the code runs and fails only if the page has a wrong status code"
   ]
  },
  {
   "cell_type": "code",
   "execution_count": 53,
   "metadata": {
    "collapsed": true
   },
   "outputs": [],
   "source": [
    "url = \"https://fr.wikipedia.org/wieki/Erreur_HTTP_404\""
   ]
  },
  {
   "cell_type": "markdown",
   "metadata": {},
   "source": [
    "##6\\. Use case : the CTS API and its AHAB extension"
   ]
  },
  {
   "cell_type": "markdown",
   "metadata": {},
   "source": [
    "> The Canonical Text Services protocol defines interaction between a client and server providing identification of texts and retrieval of canonically cited passages of texts\n",
    "\n",
    "> C. Blackwell and N. Smith, http://cite-architecture.github.io/cts_spec/\n",
    "\n",
    "The CTS API provides a way to retrieve chunk of texts based on persistent identifiers. This mean that using any implementation, you will be able to perform the same queries with the same identifiers or parameters. This norm has been developed to answer to the problem of interoperability accross platforms serving texts, particularly Latin and Greek texts."
   ]
  },
  {
   "cell_type": "markdown",
   "metadata": {},
   "source": [
    "For a long time, most texts of Perseus were accessible mainly as a whole on github or through some API. To get a text of Perseus from the canonical repo type the following :"
   ]
  },
  {
   "cell_type": "code",
   "execution_count": null,
   "metadata": {
    "collapsed": false
   },
   "outputs": [],
   "source": [
    "# URL of the Aeneid\n",
    "url = \"https://raw.githubusercontent.com/PerseusDL/canonical-latinLit/master/data/phi0690/phi003/phi0690.phi003.perseus-lat1.xml\"\n",
    "answer = requests.get(url)\n",
    "print(answer.text[0:200])"
   ]
  },
  {
   "cell_type": "markdown",
   "metadata": {},
   "source": [
    "With a CTS API, you can ask for particular content. For example, we could ask for the first line of the first poem of the first book of Martial's Epigrammata :"
   ]
  },
  {
   "cell_type": "code",
   "execution_count": null,
   "metadata": {
    "collapsed": false
   },
   "outputs": [],
   "source": [
    "params = {\n",
    "    \"inv\" : \"nemo\",\n",
    "    \"urn\" : \"urn:cts:latinLit:phi1294.phi002.perseus-lat2:1.1.1\",\n",
    "    \"request\" : \"GetPassage\"\n",
    "}\n",
    "url = \"http://services2.perseids.org/exist/restxq/cts\"\n",
    "\n",
    "answer = requests.get(url, params=params)\n",
    "print(answer.text[0:200])"
   ]
  },
  {
   "cell_type": "markdown",
   "metadata": {},
   "source": [
    "CTS APIs are built around CTS URNs. A CTS URN is composed like this \"urn:cts:latinLit:phi1294.phi002.perseus-lat2:1.1.1\" :\n",
    "\n",
    "- \"cts\" in the urn namespace\n",
    "- \"latinLit\" the CTS namespace (here Latin literature)\n",
    "- \"phi1294.phi002.perseus-lat2\" represents the work\n",
    "    - \"phi1294\" represents Martial, it's called a textgroup (an author or group of authors)\n",
    "    - \"phi002\" represents Epigrammata, the work of the author\n",
    "    - \"perseus-lat2\" represents the version of a work, in this case an edition digitized by Perseus. This part is optional.\n",
    "- 1.1.1 represents a passage. Martial's Epigrammata have 3 levels of citation : Book, Poem and Line.\n",
    "\n",
    "CTS then have different request type, called through the parameter \"request\" :\n",
    "\n",
    "- *GetPassage* : get the passage of a text\n",
    "- *GetPassagePlus* : get the passage of a text with metadata\n",
    "- *GetCapabilities* : get the content of he text repository\n",
    "- and other which you can read abouto on the CTS Spec (See going further section below)\n",
    "\n",
    "Those requests take at least one parameter : inv which represent a text inventory. You can add to that a second parameter for passage-related queries with a urn value.\n"
   ]
  },
  {
   "cell_type": "markdown",
   "metadata": {},
   "source": [
    "**DIY**\n",
    "\n",
    "Can you choose a Greek text from the inventory \"nemo\" of Perseids and get its first passage ?"
   ]
  },
  {
   "cell_type": "code",
   "execution_count": 62,
   "metadata": {
    "collapsed": true
   },
   "outputs": [],
   "source": [
    "# Write your code here"
   ]
  },
  {
   "cell_type": "markdown",
   "metadata": {},
   "source": [
    "## Exercises\n",
    "1\\. \"Arma virumque cano\"\n",
    "\n",
    "Using the following URL, you will retrieve the first line of the Aeneid without xml markup (Hint : Use regular expressions !)"
   ]
  },
  {
   "cell_type": "code",
   "execution_count": null,
   "metadata": {
    "collapsed": true
   },
   "outputs": [],
   "source": [
    "#Use this url\n",
    "url = \"http://services2.perseids.org/exist/restxq/cts?request=GetPassage&inv=nemo&urn=urn:cts:latinLit:phi0959.phi001.perseus-lat2:1.1.1\"\n"
   ]
  },
  {
   "cell_type": "markdown",
   "metadata": {},
   "source": [
    "2\\. Code study\n",
    "\n",
    "Can you explain the following code : https://gist.github.com/anonymous/93260e06c985e26bf99c#file-etym-py-L11-L63\n"
   ]
  },
  {
   "cell_type": "markdown",
   "metadata": {},
   "source": [
    "3\\. Using the previous exercise's output, can you find the etymology of \"hood\" ?"
   ]
  },
  {
   "cell_type": "code",
   "execution_count": null,
   "metadata": {
    "collapsed": true
   },
   "outputs": [],
   "source": []
  },
  {
   "cell_type": "markdown",
   "metadata": {},
   "source": [
    "4\\. Can you retrieve the author's name and the title of the book's passage represented by `urn:cts:greekLit:tlg0028.tlg005.perseus-grc1:10` using regular expressions and requests ?"
   ]
  },
  {
   "cell_type": "code",
   "execution_count": null,
   "metadata": {
    "collapsed": true
   },
   "outputs": [],
   "source": []
  },
  {
   "cell_type": "markdown",
   "metadata": {},
   "source": [
    "5\\. Can you make a dictionary of commits where keys are their sha value and their values are a dictionary containing the title and the username responsible for it ?"
   ]
  },
  {
   "cell_type": "code",
   "execution_count": 1,
   "metadata": {
    "collapsed": true
   },
   "outputs": [],
   "source": [
    "url = \"https://api.github.com/repos/Capitains/MyCapytain/commits\""
   ]
  },
  {
   "cell_type": "markdown",
   "metadata": {},
   "source": [
    "## Going further\n",
    "1. Documentation of `requests` : http://docs.python-requests.org\n",
    "2. About error handling with `requests` : http://www.mobify.com/blog/http-requests-are-hard/\n",
    "3. The CTS Norm : http://cite-architecture.github.io/cts_spec/\n",
    "4. Capitains, an organization built for providing tools for CTS : http://capitains.github.io"
   ]
  },
  {
   "cell_type": "markdown",
   "metadata": {},
   "source": [
    "-----"
   ]
  },
  {
   "cell_type": "code",
   "execution_count": 19,
   "metadata": {
    "collapsed": false
   },
   "outputs": [
    {
     "data": {
      "text/html": [
       "<style>\n",
       "    @font-face {\n",
       "        font-family: \"Computer Modern\";\n",
       "        src: url('http://mirrors.ctan.org/fonts/cm-unicode/fonts/otf/cmunss.otf');\n",
       "    }\n",
       "    div.cell {\n",
       "        width:800px;\n",
       "        margin-left:auto;\n",
       "        margin-right:auto;\n",
       "    }\n",
       "    div.cell, .input.hbox {\n",
       "    display:block;\n",
       "}\n",
       "    h1 {\n",
       "        font-family: \"Charis SIL\", Palatino, serif;\n",
       "    }\n",
       "    h4{\n",
       "        margin-top:12px;\n",
       "        margin-bottom: 3px;\n",
       "       }\n",
       "    div.text_cell_render{\n",
       "        font-family: Computer Modern, \"Helvetica Neue\", Arial, Helvetica, Geneva, sans-serif;\n",
       "        line-height: 145%;\n",
       "        font-size: 120%;\n",
       "        width:800px;\n",
       "        margin-left:auto;\n",
       "        margin-right:auto;\n",
       "    }\n",
       "    .CodeMirror{\n",
       "            font-family: \"Source Code Pro\", source-code-pro,Consolas, monospace;\n",
       "    }\n",
       "    .prompt{\n",
       "        display: None;\n",
       "    }\n",
       "    .text_cell_render h5 {\n",
       "        font-weight: 300;\n",
       "        font-size: 16pt;\n",
       "        color: #4057A1;\n",
       "        font-style: italic;\n",
       "        margin-bottom: .5em;\n",
       "        margin-top: 0.5em;\n",
       "        display: block;\n",
       "    }\n",
       "    \n",
       "    .warning{\n",
       "        color: rgb( 240, 20, 20 )\n",
       "        }\n",
       "\n",
       "    blockquote {\n",
       "    border-left: 4px solid #DDDDDD;\n",
       "    color: #777777;\n",
       "        padding: 0 15px;\n",
       "        }\n",
       "\n",
       "</style>\n",
       "<script>\n",
       "    MathJax.Hub.Config({\n",
       "                        TeX: {\n",
       "                           extensions: [\"AMSmath.js\"]\n",
       "                           },\n",
       "                tex2jax: {\n",
       "                    inlineMath: [ ['$','$'], [\"\\\\(\",\"\\\\)\"] ],\n",
       "                    displayMath: [ ['$$','$$'], [\"\\\\[\",\"\\\\]\"] ]\n",
       "                },\n",
       "                displayAlign: 'center', // Change this to 'center' to center equations.\n",
       "                \"HTML-CSS\": {\n",
       "                    styles: {'.MathJax_Display': {\"margin\": 4}}\n",
       "                }\n",
       "        });\n",
       "</script>"
      ],
      "text/plain": [
       "<IPython.core.display.HTML object>"
      ]
     },
     "execution_count": 19,
     "metadata": {},
     "output_type": "execute_result"
    }
   ],
   "source": [
    "# Do not care about this cell, it's just here to make the page nicer.\n",
    "\n",
    "from IPython.core.display import HTML\n",
    "def css_styling():\n",
    "    styles = open(\"styles/custom.css\", \"r\").read()\n",
    "    return HTML(styles)\n",
    "css_styling()"
   ]
  },
  {
   "cell_type": "markdown",
   "metadata": {},
   "source": [
    "---"
   ]
  },
  {
   "cell_type": "markdown",
   "metadata": {},
   "source": [
    "<p><small><a rel=\"license\" href=\"http://creativecommons.org/licenses/by-sa/4.0/\"><img alt=\"Creative Commons License\" style=\"border-width:0\" src=\"https://i.creativecommons.org/l/by-sa/4.0/88x31.png\" /></a><br /><span xmlns:dct=\"http://purl.org/dc/terms/\" property=\"dct:title\">Python Programming for the Humanities</span> by <a xmlns:cc=\"http://creativecommons.org/ns#\" href=\"http://fbkarsdorp.github.io/python-course\" property=\"cc:attributionName\" rel=\"cc:attributionURL\">http://fbkarsdorp.github.io/python-course</a> is licensed under a <a rel=\"license\" href=\"http://creativecommons.org/licenses/by-sa/4.0/\">Creative Commons Attribution-ShareAlike 4.0 International License</a>. Based on a work at <a xmlns:dct=\"http://purl.org/dc/terms/\" href=\"https://github.com/fbkarsdorp/python-course\" rel=\"dct:source\">https://github.com/fbkarsdorp/python-course</a>.</small></p>"
   ]
  }
 ],
 "metadata": {
  "kernelspec": {
   "display_name": "Python 3",
   "language": "python",
   "name": "python3"
  },
  "language_info": {
   "codemirror_mode": {
    "name": "ipython",
    "version": 3
   },
   "file_extension": ".py",
   "mimetype": "text/x-python",
   "name": "python",
   "nbconvert_exporter": "python",
   "pygments_lexer": "ipython3",
   "version": "3.4.3"
  }
 },
 "nbformat": 4,
 "nbformat_minor": 0
}
