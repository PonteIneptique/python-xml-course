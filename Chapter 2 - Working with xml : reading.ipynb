{
 "cells": [
  {
   "cell_type": "markdown",
   "metadata": {},
   "source": [
    "# Chapter 2: Working with xml : reading"
   ]
  },
  {
   "cell_type": "markdown",
   "metadata": {},
   "source": [
    "## 1. XML, XPath and DOM"
   ]
  },
  {
   "cell_type": "markdown",
   "metadata": {},
   "source": [
    "XML stands for eXtensible Markup Language and is designed to describe data. Unlike html, XML is very flexible. Although you must have clean markup, you can invent your own tags or use those supplied by ODD, guidelines and set of tags design for collaboration and shared practices.\n",
    "\n",
    "You've probably heard of TEI; TEI is a nice, complex, complete language for encoding texts.\n",
    "\n",
    "**Write more here**"
   ]
  },
  {
   "cell_type": "markdown",
   "metadata": {},
   "source": [
    "![XML, source of our everyday](images/XML.svg)"
   ]
  },
  {
   "cell_type": "markdown",
   "metadata": {},
   "source": [
    "## 2\\. Parsing XML with Python"
   ]
  },
  {
   "cell_type": "markdown",
   "metadata": {},
   "source": [
    "As for querying the web, Python has many libraries for playing with xml. You will most likely encounter the following during your Pythonic journey :\n",
    "\n",
    "- **lxml**, which we will use for this course. A clean, quite fast, strict library for dealing with xml resources. It's the most accepted library for this kind of request. If IBM writes [tutorials for it](http://www.ibm.com/developerworks/library/x-hiperfparse/), it should be good. It supports xpath and xslt.\n",
    "- **BeautifulSoup**. Flexible, average speed. The good thing is if your xml markup is messed up, it will try to correct it. It's perfect for dealing with web scrapped data in HTML formats. For clean xml, it might be too slow.\n",
    "- **xml** : the native integration in Python. Fast, clean but no good sides such as xpath and xslt.\n",
    "- Read about others on the Python [official wiki](https://wiki.python.org/moin/PythonXml)\n"
   ]
  },
  {
   "cell_type": "markdown",
   "metadata": {},
   "source": [
    "Based on my experience, lxml will meet most of your needs when dealing with clean data. Clean is the key word here : do not expect lxml to play well with bad html or bad xml. It will just throw errors at you until you give up or fix it by hand.\n",
    "\n",
    "We can import lxml.etree the same way we imported requests earlier."
   ]
  },
  {
   "cell_type": "code",
   "execution_count": null,
   "metadata": {
    "collapsed": true
   },
   "outputs": [],
   "source": [
    "from lxml import etree"
   ]
  },
  {
   "cell_type": "markdown",
   "metadata": {},
   "source": [
    "### From file to XML object"
   ]
  },
  {
   "cell_type": "markdown",
   "metadata": {},
   "source": [
    "Opening an xml file is actually quite simple : you open it and you parse it. Who would have guessed ?"
   ]
  },
  {
   "cell_type": "code",
   "execution_count": null,
   "metadata": {
    "collapsed": false
   },
   "outputs": [],
   "source": [
    "# We open our file\n",
    "with open(\"data/phi1294.phi002.perseus-lat2.xml\") as file:\n",
    "    # We use the etree.parse property\n",
    "    parsed = etree.parse(file)\n",
    "# We print the object\n",
    "print(parsed)"
   ]
  },
  {
   "cell_type": "markdown",
   "metadata": {},
   "source": [
    "As you can see, we obtained an instance of type lxml.etree.\\_ElementTree. It means the xml markup has been transformed into something Python understands.\n",
    "\n",
    "The *parse* function of *etree* does not take many arguments. One way to customize its behaviour is to give it a home configured or homemade xml parser : "
   ]
  },
  {
   "cell_type": "code",
   "execution_count": null,
   "metadata": {
    "collapsed": false
   },
   "outputs": [],
   "source": [
    "# We initiate a new parser from etree, asking it to remove nodes of text which are empty\n",
    "parser = etree.XMLParser(remove_blank_text=True)\n",
    "# We open the file\n",
    "with open(\"data/phi1294.phi002.perseus-lat2.xml\") as file:\n",
    "    # And we parse using the new parser\n",
    "    parsed = etree.parse(file, parser)\n",
    "# We print the object\n",
    "print(parsed)\n",
    "# We open the file"
   ]
  },
  {
   "cell_type": "markdown",
   "metadata": {},
   "source": [
    "From the [documentation](http://lxml.de/parsing.html#parser-options) of the XMLParser function, here are some arguments that might be useful for you :\n",
    "\n",
    "- *attribute_defaults* : Use DTD (if available) to add the default attributes\n",
    "- *dtd_validation* : Validate against DTD while parsing\n",
    "- *load_dtd* : Load and parse the DTD while parsing\n",
    "- *ns_clean* : Clean up redundant namespace declarations\n",
    "- *recover* : Try to fix ill-formed xml\n",
    "- *remove_blank_text* : Removes blank text nodes\n",
    "- *resolve_entities* : Replace entities by their value (Default : on)\n",
    "\n",
    "You can then create a new parser according to its standards or clean namespace attribute. In this context, *ns_clean* would transform\n",
    "\n",
    "\n",
    "`<root xmlns:a=\"xmlns1\" xmlns:b=\"xmlns2\"><tag xmlns:c=\"xmlns3\" /><tag xmlns:a=\"xmlns1\" /><tag /></root>`\n",
    "\n",
    "into\n",
    "\n",
    "`<root xmlns:a=\"xmlns1\" xmlns:b=\"xmlns2\"><tag xmlns:c=\"xmlns3\" /><tag/><tag /></root>`"
   ]
  },
  {
   "cell_type": "markdown",
   "metadata": {},
   "source": [
    "###From string to XML object"
   ]
  },
  {
   "cell_type": "markdown",
   "metadata": {},
   "source": [
    "lxml parses strings in the same way that it parses files. The syntax differs, but is quite simple :"
   ]
  },
  {
   "cell_type": "code",
   "execution_count": null,
   "metadata": {
    "collapsed": false
   },
   "outputs": [],
   "source": [
    "xml = '<root xmlns:a=\"xmlns1\" xmlns:b=\"xmlns2\"><tag xmlns:c=\"xmlns3\" /><tag xmlns:a=\"xmlns1\" /><tag /></root>'\n",
    "parsed = etree.fromstring(xml)\n",
    "print(parsed)"
   ]
  },
  {
   "cell_type": "markdown",
   "metadata": {},
   "source": [
    "**DIY**\n",
    "\n",
    "Can you parse a xml document made of one tag \"humanities\" with two children \"field\" named \"classics\" and \"history\"? "
   ]
  },
  {
   "cell_type": "code",
   "execution_count": null,
   "metadata": {
    "collapsed": true
   },
   "outputs": [],
   "source": [
    "# Put your code here"
   ]
  },
  {
   "cell_type": "markdown",
   "metadata": {},
   "source": [
    "###Errors and understanding them"
   ]
  },
  {
   "cell_type": "markdown",
   "metadata": {},
   "source": [
    "Previouly, we have said that lxml was quite strict about xml validity. Let's see an example :"
   ]
  },
  {
   "cell_type": "code",
   "execution_count": null,
   "metadata": {
    "collapsed": false
   },
   "outputs": [],
   "source": [
    "xml = \"\"\"\n",
    "<fileDesc>\n",
    "    <titleStmt>\n",
    "        <title>Aeneid</title>\n",
    "        <title type=\"sub\">Machine readable text</title>\n",
    "        <author n=\"Verg.\">P. Vergilius Maro</author>\n",
    "        <editor role=\"editor\" n=\"Greenough\">J. B. Greenough</editor>\n",
    "        &responsibility;\n",
    "        &fund.NEH;\n",
    "    </titleStmt>\n",
    "    <extent>about 505Kb</extent>\n",
    "    &Perseus.publish;\n",
    "    <sourceDesc>\n",
    "        <biblStruct>\n",
    "            <monogr>\n",
    "                <author>Vergil</author>\n",
    "                <title>Bucolics, Aeneid, and Georgics Of Vergil</title>\n",
    "                <editor role=\"editor\">J. B. Greenough</editor>\n",
    "                <imprint>\n",
    "                    <pubPlace>Boston</pubPlace>\n",
    "                    <publisher>Ginn &amp; Co.</publisher>\n",
    "                    <date>1900</date>\n",
    "                </imprint>\n",
    "            </monogr>\n",
    "        </biblStruct>\n",
    "    </sourceDesc>\n",
    "</fileDesc>\"\"\"\n",
    "\n",
    "etree.fromstring(xml)"
   ]
  },
  {
   "cell_type": "markdown",
   "metadata": {},
   "source": [
    "What error did we raise trying to parse this XML ? We got an *XMLSyntaxError*. It can happen for various reasons, including when entities cannot be parsed. Can you try to find another way to raise an XMLSyntaxError ?"
   ]
  },
  {
   "cell_type": "code",
   "execution_count": null,
   "metadata": {
    "collapsed": false
   },
   "outputs": [],
   "source": [
    "#Write your xml in xml variable\n",
    "xml = \"\"\"\n",
    "\"\"\"\n",
    "etree.fromstring(xml)"
   ]
  },
  {
   "cell_type": "markdown",
   "metadata": {},
   "source": [
    "As you can see, errors are detailed enough so you can correct your own XML, at least manually."
   ]
  },
  {
   "cell_type": "markdown",
   "metadata": {},
   "source": [
    "### Node properties and methods"
   ]
  },
  {
   "cell_type": "markdown",
   "metadata": {},
   "source": [
    "*Quick explanation* : Methods and properties are something special in Python and other programming languages. Unlike traditional functions (`len()`) and keys of dictionaries (`a[\"b\"]`), they are part of something bigger.\n",
    "\n",
    "**Methods** : Ever seen something such as `a.method()` ? Yes, you did with `.split()`, `.join()`, etc. Functions following a variable with a dot are called methods because they are an extension of the variable type. *eh* `split()` and `join()` are extensions of string objects, and they use their value as argument.\n",
    "\n",
    "**Properties or Attributes** : Such as dictionary keys, properties are indexed values of an object, but instead of using the syntax made of square brackets, you just put the name of the key after a dot : `a.property`"
   ]
  },
  {
   "cell_type": "markdown",
   "metadata": {},
   "source": [
    "**Warning : namespaces** : In lxml, namespaces are expressed using the Clark notation. This mean that, if a namespace defines a node, this node will be named using the following syntax \"`{namespace}tagname`. Here is an example :"
   ]
  },
  {
   "cell_type": "code",
   "execution_count": null,
   "metadata": {
    "collapsed": false
   },
   "outputs": [],
   "source": [
    "# With no namespace\n",
    "print(etree.fromstring(\"<root />\"))\n",
    "# With namespace\n",
    "print(etree.fromstring(\"<root xmlns='http://localhost' />\"))"
   ]
  },
  {
   "cell_type": "markdown",
   "metadata": {},
   "source": [
    "You can do plenty of things using lxml and access properties or methods of nodes, here is an overview of reading functionalities offered by lxml :"
   ]
  },
  {
   "cell_type": "markdown",
   "metadata": {},
   "source": [
    "![Cheatsheet](images/CheatsheetElement.svg)"
   ]
  },
  {
   "cell_type": "markdown",
   "metadata": {},
   "source": [
    "Let's see what that means in real life :"
   ]
  },
  {
   "cell_type": "code",
   "execution_count": null,
   "metadata": {
    "collapsed": false
   },
   "outputs": [],
   "source": [
    "# First, we will need some xml\n",
    "xml = \"\"\"\n",
    "<div type=\"Book\" n=\"1\">\n",
    "    <l n=\"1\">Arma virumque cano, Troiae qui primus ab oris</l>\n",
    "    <tei:l n=\"2\" xmlns:tei=\"http://www.tei-c.org/ns/1.0\">Italiam, fato profugus, Laviniaque venit</tei:l>\n",
    "    <l n=\"3\">litora, multum ille et terris iactatus et alto</l>\n",
    "    <l n=\"4\">vi superum saevae memorem Iunonis ob iram;</l>\n",
    "    <l n=\"5\">multa quoque et bello passus, dum conderet urbem,</l>\n",
    "    <l n=\"6\">inferretque deos Latio, genus unde Latinum,</l>\n",
    "    <l n=\"7\">Albanique patres, atque altae moenia Romae.</l>\n",
    "</div>\n",
    "\"\"\"\n",
    "div = etree.fromstring(xml)\n",
    "print(parsed)"
   ]
  },
  {
   "cell_type": "markdown",
   "metadata": {},
   "source": [
    "If we want to retrieve the attributes of our div, we can do as follow :"
   ]
  },
  {
   "cell_type": "code",
   "execution_count": null,
   "metadata": {
    "collapsed": false
   },
   "outputs": [],
   "source": [
    "type_div = div.get(\"type\")\n",
    "print(type_div)\n",
    "# If we want a dictionary of attributes\n",
    "attributes_div = dict(div.attrib)\n",
    "print(attributes_div)\n",
    "# Of if we want a list\n",
    "list_attributes_div = div.items()\n",
    "print(list_attributes_div)"
   ]
  },
  {
   "cell_type": "markdown",
   "metadata": {},
   "source": [
    "Great ! We accessed our first information using lxml ! Now, how about getting somewhere other than the root tag ? To do so, there are two ways :\n",
    "\n",
    "- getchildren() will returns a list of children tags, such as div.\n",
    "- list(div) will transform div in a list of children.\n",
    "\n",
    "Both syntaxes return the same results, so it's up to you to decide which one you prefer. "
   ]
  },
  {
   "cell_type": "code",
   "execution_count": null,
   "metadata": {
    "collapsed": false
   },
   "outputs": [],
   "source": [
    "children = div.getchildren()\n",
    "line_1 = children[0] # Because it's a list we can access children through index\n",
    "print(line_1)"
   ]
  },
  {
   "cell_type": "markdown",
   "metadata": {},
   "source": [
    "Now that we have access to our children, we can have access to their text :"
   ]
  },
  {
   "cell_type": "code",
   "execution_count": null,
   "metadata": {
    "collapsed": false
   },
   "outputs": [],
   "source": [
    "print(line_1.text)"
   ]
  },
  {
   "cell_type": "markdown",
   "metadata": {},
   "source": [
    "Ok, we are now able to get some stuff done. Remember the namespace naming ? Sometimes it's useful to retrieve namespaces and their prefix :"
   ]
  },
  {
   "cell_type": "code",
   "execution_count": null,
   "metadata": {
    "collapsed": false
   },
   "outputs": [],
   "source": [
    "line_2 = children[1]\n",
    "print(line_2.nsmap)\n",
    "print(line_2.prefix)\n",
    "print(line_2.tag)"
   ]
  },
  {
   "cell_type": "markdown",
   "metadata": {},
   "source": [
    "**DIY**\n",
    "\n",
    "Can you print the complete text of those lines ? (Hint : you will need to loop over something)"
   ]
  },
  {
   "cell_type": "code",
   "execution_count": null,
   "metadata": {
    "collapsed": true
   },
   "outputs": [],
   "source": [
    "#Write your code here"
   ]
  },
  {
   "cell_type": "markdown",
   "metadata": {},
   "source": [
    "**What you've learned** :\n",
    "\n",
    "- How to parse a xml file or a string representing xml through `etree.parse()` and `etree.fromstring()`\n",
    "- How to configure the way xml is parsed with `etree.XMLParser()`\n",
    "- What is an attribute and a method\n",
    "- Properties and methods of a node\n",
    "- XMLParseError handling\n",
    "- Clark's notation for namespaces and tags.\n",
    "\n",
    "----"
   ]
  },
  {
   "cell_type": "markdown",
   "metadata": {},
   "source": [
    "## 3\\. XPath and XSLT with lxml"
   ]
  },
  {
   "cell_type": "markdown",
   "metadata": {},
   "source": [
    "### XPath"
   ]
  },
  {
   "cell_type": "markdown",
   "metadata": {},
   "source": [
    "XPath is a powerful tool for traversing an xml tree. XML is made of nodes such as tags, comments, texts. These nodes have attributes that can be used to identify them. For example, with the following xml :\n",
    "\n",
    "> `<div><l n=\"1\"><p>Text</p> followed</l><l n=\"2\">by line two</div>`\n",
    "\n",
    "the node p will be accessible by `/div/l[@n=\"1\"]/p`. LXML has great support for complex XPath, which makes it the best friend of Humanists dealing with xml :"
   ]
  },
  {
   "cell_type": "code",
   "execution_count": null,
   "metadata": {
    "collapsed": false
   },
   "outputs": [],
   "source": [
    "# We generate some xml and parse it\n",
    "xml = '<div><l n=\"1\"><p>Text</p> followed</l><l n=\"2\">by line two</l><p>test</p></div>'\n",
    "div = etree.fromstring(xml)\n",
    "print(div)\n",
    "# When doing an xpath, the results will be a list\n",
    "ps = div.xpath(\"/div/l[@n='1']/p\")\n",
    "print(ps)\n",
    "print(ps[0].text == \"Text\")"
   ]
  },
  {
   "cell_type": "markdown",
   "metadata": {},
   "source": [
    "As you can see, the xpath returns a list. This behaviour is intended, since an xpath can retrieve more than one item :"
   ]
  },
  {
   "cell_type": "code",
   "execution_count": null,
   "metadata": {
    "collapsed": false
   },
   "outputs": [],
   "source": [
    "print(div.xpath(\"//l\"))"
   ]
  },
  {
   "cell_type": "markdown",
   "metadata": {},
   "source": [
    "You see ? The xpath `//l` returns two elements, just like python does in a list. Now, let's apply some xpath to the children and see what happens :"
   ]
  },
  {
   "cell_type": "code",
   "execution_count": null,
   "metadata": {
    "collapsed": false
   },
   "outputs": [],
   "source": [
    "# We assign our first line to a variable\n",
    "line_1 = div.xpath(\"//l\")[0]\n",
    "print(line_1)\n",
    "\n",
    "# We look for p\n",
    "print(line_1.xpath(\"p\")) # This works\n",
    "print(line_1.xpath(\"./p\")) # This works too\n",
    "print(line_1.xpath(\".//p\")) # This still works\n",
    "print(line_1.xpath(\"//p\")) # This does not\n"
   ]
  },
  {
   "cell_type": "markdown",
   "metadata": {},
   "source": [
    "As you can see, you can do xpath from any node in lxml. One important thing though : xpath `//tagname` *will return to the root* if you do not add a dot in front of it such as **`.`**`//tagname`. This is really important to remember, because most xpath resolvers do not behave this way."
   ]
  },
  {
   "cell_type": "markdown",
   "metadata": {},
   "source": [
    "**Xpath with namespaces and prefix**\n",
    "\n",
    "As you've seen, lxml use Clark's naming convention for expressing namespaces. This is extremely important regarding xpath, because you will be able to retrieve a node using it under certain conditions :"
   ]
  },
  {
   "cell_type": "code",
   "execution_count": null,
   "metadata": {
    "collapsed": false
   },
   "outputs": [],
   "source": [
    "xml = \"\"\"<root>\n",
    "<tag xmlns=\"http://localhost\">Text</tag>\n",
    "<tei:tag xmlns:tei=\"http://www.tei-c.org/ns/1.0\"></tei:tag>\n",
    "</root>\"\"\"\n",
    "root = etree.fromstring(xml)\n",
    "\n",
    "print(root.xpath(\"//tag\")) # Does not retrieve anything because both tags have a namespace\n",
    "print(root.findall(\"{http://localhost}tag\")) # Retrieve first tag\n",
    "\n",
    "print(root.xpath(\"//{http://www.tei-c.org/ns/1.0}tag\")) # Will fail"
   ]
  },
  {
   "cell_type": "markdown",
   "metadata": {},
   "source": [
    "The last line failed because Clark's notation is not accepted in xpath. To succeed, you will need to use a namespace dictionary and prefix, which you will feed to the `xpath()` method using the argument `namespaces` : "
   ]
  },
  {
   "cell_type": "code",
   "execution_count": null,
   "metadata": {
    "collapsed": false
   },
   "outputs": [],
   "source": [
    "# We create a valid xml object\n",
    "xml = \"\"\"<root>\n",
    "<tag xmlns=\"http://localhost\">Text</tag>\n",
    "<tei:tag xmlns:tei=\"http://www.tei-c.org/ns/1.0\">Other text</tei:tag>\n",
    "</root>\"\"\"\n",
    "root = etree.fromstring(xml)\n",
    "# We register every namespaces in a dictionary using prefix as keys :\n",
    "ns = {\n",
    "    \"local\" : \"http://localhost\", # Even if this namespace had no prefix, we can register one for it\n",
    "    \"tei\" : \"http://www.tei-c.org/ns/1.0\"\n",
    "}\n",
    "tag_1 = root.xpath(\"//local:tag\", namespaces=ns)\n",
    "print(tag_1[0].text)\n",
    "tag_2 = root.xpath(\"//tei:tag\", namespaces=ns)\n",
    "print(tag_2[0].text)"
   ]
  },
  {
   "cell_type": "markdown",
   "metadata": {},
   "source": [
    "Another point to kepe in mind : if you write your xpath incorrectly, Python will raise an *XPathEvalError * error"
   ]
  },
  {
   "cell_type": "code",
   "execution_count": null,
   "metadata": {
    "collapsed": false
   },
   "outputs": [],
   "source": [
    "root.xpath(\"wrong:xpath:never:works\")"
   ]
  },
  {
   "cell_type": "markdown",
   "metadata": {},
   "source": [
    "**What you have learned** :\n",
    "\n",
    "- Each node and xml document has an `.xpath()` method which takes as its first parameter xpath\n",
    "- Method `xpath()` always returns a list, even for a single result\n",
    "- Method `xpath()` will return to the root when you don't prefix your `//` with a dot.\n",
    "- An incorrect XPath will issue a `XPathEvalError`\n",
    "- Method `xpath()` accepts a `namespaces` argument : you should enter a dictionary where keys are prefixes and values namespaces\n",
    "- Unlike `findall()`, `xpath()` does not accept Clark's notation"
   ]
  },
  {
   "cell_type": "markdown",
   "metadata": {},
   "source": [
    "###XSLT\n",
    "\n",
    "XSLT stands for *Extensible Stylesheet Language Transformations*. It's an xml-based language made for transforming xml documents to xml or other formats such as LaTeX and HTML. XSLT is really powerful when dealing with similarly formated data. It's far easier to transform 100 documents with the exact same structure via XSLT than in Python or any other language.\n",
    "\n",
    "While Python is great at dealing with weird transformations of xml, the presence of XSLT in Python allows you to create production chains without leaving your favorite IDE.\n",
    "\n",
    "To do some XSL, lxml needs two things : first, an xml document representing the xsl that will be parsed and entered into the function `etree.XSLT()`, and second, a document to transform. "
   ]
  },
  {
   "cell_type": "code",
   "execution_count": null,
   "metadata": {
    "collapsed": false
   },
   "outputs": [],
   "source": [
    "# Here is an xml containing an xsl: for each text node of an xml file in the xpath /humanities/field,\n",
    "#     this will return a node <name> with the text inside\n",
    "xslt_root = etree.fromstring(\"\"\"\n",
    "<xsl:stylesheet version=\"1.0\" xmlns:xsl=\"http://www.w3.org/1999/XSL/Transform\">\n",
    "    <xsl:template match=\"/\">\n",
    "        <fields><xsl:apply-templates /></fields>\n",
    "    </xsl:template>\n",
    "    <xsl:template match=\"/humanities/field\">\n",
    "        <name><xsl:value-of select=\"./text()\" /></name>\n",
    "    </xsl:template>\n",
    "</xsl:stylesheet>\"\"\")\n",
    "# We transform our document to an xsl \n",
    "xslt = etree.XSLT(xslt_root)\n",
    "\n",
    "# We create some xml we need to change \n",
    "xml = \"\"\"<humanities>\n",
    "    <field>History</field>\n",
    "    <field>Classics</field>\n",
    "    <field>French</field>\n",
    "    <field>German</field>\n",
    "</humanities>\"\"\"\n",
    "parsed_xml = etree.fromstring(xml)\n",
    "# And now we process our xml :\n",
    "transformed = xslt(parsed_xml)\n",
    "print(transformed)"
   ]
  },
  {
   "cell_type": "markdown",
   "metadata": {},
   "source": [
    "Did you see what happened ? We used `xslt(xml)`. `etree.XSLT()` transforms a xsl document into a function, which then takes one parameter (in this case an xml document). But can you figure out what this returns ? Let's ask Python :"
   ]
  },
  {
   "cell_type": "code",
   "execution_count": null,
   "metadata": {
    "collapsed": false
   },
   "outputs": [],
   "source": [
    "print(type(transformed))\n",
    "print(type(parsed_xml))"
   ]
  },
  {
   "cell_type": "markdown",
   "metadata": {},
   "source": [
    "The result is not of the same type of element we usually have, even though it does share most of its methods and attributes :"
   ]
  },
  {
   "cell_type": "code",
   "execution_count": null,
   "metadata": {
    "collapsed": false
   },
   "outputs": [],
   "source": [
    "print(transformed.xpath(\"//name\"))"
   ]
  },
  {
   "cell_type": "markdown",
   "metadata": {},
   "source": [
    "And has something more : you can change its type to string !"
   ]
  },
  {
   "cell_type": "code",
   "execution_count": null,
   "metadata": {
    "collapsed": false
   },
   "outputs": [],
   "source": [
    "string_result = str(transformed)\n",
    "print(string_result)"
   ]
  },
  {
   "cell_type": "markdown",
   "metadata": {},
   "source": [
    "Pretty neat he ?\n",
    "\n",
    "XSLT is more complex than just inputing xml. You can do XSLT using parameters as well. In this case, your parameters will be accessibles as a named argument to the generated function. If your XSL has a `name` xsl-param, the function given back by `etree.XSLT` will have a `name` argument :"
   ]
  },
  {
   "cell_type": "code",
   "execution_count": null,
   "metadata": {
    "collapsed": false
   },
   "outputs": [],
   "source": [
    "# Here is an xml containing an xsl: for each text node of an xml file in the xpath /humanities/field,\n",
    "#     this will return a node <name> with the text inside\n",
    "xslt_root = etree.fromstring(\"\"\"\n",
    "<xsl:stylesheet version=\"1.0\" xmlns:xsl=\"http://www.w3.org/1999/XSL/Transform\">\n",
    "    <xsl:param name=\"n\" />\n",
    "    <xsl:template match=\"/humanities\">\n",
    "        <fields>\n",
    "            <xsl:attribute name=\"n\">\n",
    "                <xsl:value-of select=\"$n\"/>\n",
    "            </xsl:attribute>\n",
    "            <xsl:apply-templates select=\"field\"/>\n",
    "        </fields>\n",
    "    </xsl:template>\n",
    "    <xsl:template match=\"/humanities/field\">\n",
    "        <name><xsl:value-of select=\"./text()\" /></name>\n",
    "    </xsl:template>\n",
    "</xsl:stylesheet>\"\"\")\n",
    "# We transform our document to an xsl \n",
    "xslt = etree.XSLT(xslt_root)\n",
    "\n",
    "# We create some xml we need to change \n",
    "xml = \"\"\"<humanities>\n",
    "    <category>Humanities</category>\n",
    "    <field>History</field>\n",
    "    <field>Classics</field>\n",
    "    <field>French</field>\n",
    "    <field>German</field>\n",
    "</humanities>\"\"\"\n",
    "parsed_xml = etree.fromstring(xml)\n",
    "# And now we process our xml :\n",
    "transformed = xslt(parsed_xml, n=\"'Humanities'\") # Note that for a string, we encapsulate it within single quotes\n",
    "print(transformed)\n",
    "\n",
    "# Be aware that you can use xpath as a value for the argument, though it can be rather complex sometimes\n",
    "transformed = xslt(parsed_xml, n=etree.XPath(\"//category/text()\"))\n",
    "print(transformed)"
   ]
  },
  {
   "cell_type": "markdown",
   "metadata": {},
   "source": [
    "## Exercises :\n",
    "\n",
    "### 1\\. CTS XML to Text\n",
    "\n",
    "Given the following xpath, can you retrieve the text of the poem n°1.1 of Martial's Epigrammata stored in the variable `epigrammata` ? Store it in the amores.txt file."
   ]
  },
  {
   "cell_type": "code",
   "execution_count": null,
   "metadata": {
    "collapsed": true
   },
   "outputs": [],
   "source": [
    "xpath = \"/tei:TEI/tei:text/tei:body/tei:div/tei:div[@n='?']/tei:div[@n='?']\"\n",
    "tei_ns = \"http://www.tei-c.org/ns/1.0\"\n",
    "epigrammata = open(\"data/phi1294.phi002.perseus-lat2.xml\")\n",
    "\n",
    "# Write your code here :\n"
   ]
  },
  {
   "cell_type": "markdown",
   "metadata": {},
   "source": [
    "### 2\\. Milestone TEI to an OrderedDict\n",
    "The **Choose a book** following code is not CTS compliant, because it uses `<milestone>`. Parse the following xml and feed the dictionary `passages` with the passage you will find :"
   ]
  },
  {
   "cell_type": "code",
   "execution_count": null,
   "metadata": {
    "collapsed": false
   },
   "outputs": [],
   "source": [
    "from collections import OrderedDict\n",
    "from lxml import etree\n",
    "\n",
    "passages = OrderedDict()\n",
    "tei = \"\"\"\n",
    "<div n=\"3\" subtype=\"chapter\">\n",
    "<milestone unit=\"section\" n=\"7\" />\n",
    "    <p>\n",
    "        <reg>ac</reg> multum etiam novitatem tuam adiuvat quod eius modi nobiles tecum petunt, ut nemo sit\n",
    "        qui audeat dicere plus illis nobilitatem quam tibi virtutem prodesse oportere.\n",
    "          <reg>nam</reg>\n",
    "        P. Galbam et L. Cassium summo loco natos quis est\n",
    "        qui petere consu<pb n=\"156\"/>latum putet? <reg>vides</reg> igitur amplissimis ex familiis homines, quod\n",
    "        sine nervis sunt, tibi paris non esse. <reg>at</reg>\n",
    "        Antonius et Catilina molesti sunt.\n",
    "    </p> \n",
    "<milestone n=\"8\" unit=\"section\" />\n",
    "    <p>\n",
    "        <reg>immo</reg> homini navo, industrio, innocenti, diserto, gratioso apud eos qui res\n",
    "        iudicant, optandi competitores ambo a puemitia sicarii, ambo libidinosi, ambo egentes.\n",
    "          Eorum alterius bona proscripta vidimus, vocem denique audivimus iurantis se\n",
    "          Romae iudicio aequo cum homine Graeco certare non posse, ex\n",
    "        senatu eiectum scimus optima verorum censorum existimatione, in praetura competitorem\n",
    "        habuimus amico Sabidio et Panthera, quom ad <pb n=\"157\"/> tabulam quos poneret non haberet; quo tamen in\n",
    "        magistratu amicam quam domi palam haberet de machinis emit. <reg>in</reg> petitione autem\n",
    "        consulatus Cappadoces omnis compilare per turpissimam legationem maluit quam adesse et\n",
    "        populo Romano supplicare.\n",
    "    </p>\n",
    "<milestone unit=\"section\" n=\"9\" />\n",
    "    <p><reg>alter</reg>\n",
    "        vero, di boni! quo splendore est? <reg>primum</reg> nobilitate eadem <del>qua\n",
    "          Catilina</del>. <reg>num</reg> maiore? <reg>non</reg>. <reg>sed</reg> virtute.\n",
    "          <reg>quam</reg> ob rem? <reg>quod</reg>\n",
    "        Antonius umbram suam metuit, hic ne leges quidem natus in patris egestate,\n",
    "        educatus in sororis stupris, corroboratus in caede civium, cuius primus ad rem publicam\n",
    "        aditus in equitibus R. occidendis fuit (nam illis quos meminimus Gallis, qui\n",
    "        tum Titiniorum ac Nanniorum ac <pb/>\n",
    "        Tanusiorum capita demebant, Sulla <pb n=\"158\"/> unum Catilinam\n",
    "        praefecerat); in quibus ille hominem optimum, Q. Caecilium, sororis\n",
    "        suae virum, equitem Romanum, nullarum partium, cum semper natura tum etiam\n",
    "        aetate iam quietum, suis manibus occidit.\n",
    "    </p>\n",
    "</div>\n",
    "\"\"\"\n"
   ]
  },
  {
   "cell_type": "markdown",
   "metadata": {},
   "source": [
    "### 3\\. XSLT Exercice\n",
    "\n",
    "For each `<reg>` you will find in the following xml, add a `<note>` to a new document giving the text inside reg, using first xslt and then retrieve the same content with python lxml natives function and put it in a list :"
   ]
  },
  {
   "cell_type": "code",
   "execution_count": null,
   "metadata": {
    "collapsed": false
   },
   "outputs": [],
   "source": [
    "TEI = \"\"\"<div1 type=\"section\" n=\"10\"><p><reg>quid</reg> ego nunc dicam peteme\n",
    "        eum consulatum, qui hominem carissimum populo Romano, M.\n",
    "          Marium, inspectante populo Romano vitibus per totam umbem\n",
    "        ceciderit, ad bustum egerit, ibi omni cmuciatu lacerarit, vivo stanti collum gladio sua\n",
    "        dextera secuemit, cum sinistra capillum eius a vertice teneret, caput sua manu tulerit, cum\n",
    "        inter digitos eius rivi sanguinis fluerent? qui postea cum histrionibus et cum gladiatoribus\n",
    "        ita vixit ut alteros libidinis, alteros facinoris adiutores haberet, qui nullum in locum tam\n",
    "        sanctum ac tam religiosum accessit in quo non, etiam si aliis culpa non esset, tamen ex sua\n",
    "        nequitia dedecoris <pb n=\"159\"/> suspicionem relinqueret, qui ex curia Curios et\n",
    "          Annios, ab atmiis Sapalas et Carvilios, ex equestri ordine\n",
    "          Pompilios et Vettios sibi amicissimos comparavit, qui tantum\n",
    "        habet audaciae, tantum nequitiae, tantum denique in libidine artis et efficacitatis, ut\n",
    "        prope in parentum gremiis praetextatos liberos constuprarit? <reg>quid</reg> ego nunc tibi\n",
    "        de Africa, quid de testium dictis scribam? <reg>nota</reg> sunt, et ea tu\n",
    "        saepius legito; sed tamen hoc mihi non praetermittendum videtur quod primum ex eo iudicio\n",
    "        tam egens discessit quam quidam iudices eius ante illud in eum iudicium fuemunt, deinde tam\n",
    "        invidiosus ut aliud in eum iudicium cotidie flagitetur. <reg>hic</reg> se sic habet ut magis\n",
    "        <pb/> timeant etiam si quierit, quam ut contemnant si quid commoverit. <milestone n=\"11\"\n",
    "          unit=\"section\"/><reg>quanto</reg> melior tibi fortuna petitionis data est quam nuper\n",
    "        homini novo, C. Coelio! <reg>ille</reg> cum duobus hominibus ita\n",
    "        nobilissimis petebat ut tamen in iis omnia pluris essent quam ipsa nobilitas, summa ingenia,\n",
    "        summus pudor, plurima beneficia, sum<pb n=\"160\"/>ma ratio ac diligentia petendi. <reg>ac</reg> tamen\n",
    "        eorum alterum Coelius, cum multo inferior esset genere, superior nulla me\n",
    "        paene, superavit. </p></div1>\"\"\""
   ]
  },
  {
   "cell_type": "markdown",
   "metadata": {},
   "source": [
    "### 4\\. Counting tags and making statistic\n",
    "\n",
    "Given the file Epigrammata, write a code which will make a dictionary of frequencies, where keys are tagnames and the values are the number of times they appear.\n",
    "\n"
   ]
  },
  {
   "cell_type": "code",
   "execution_count": null,
   "metadata": {
    "collapsed": false
   },
   "outputs": [],
   "source": [
    "epigrammata = open(\"data/phi1294.phi002.perseus-lat2.xml\")\n",
    "tags = {}"
   ]
  },
  {
   "cell_type": "code",
   "execution_count": null,
   "metadata": {
    "collapsed": true
   },
   "outputs": [],
   "source": [
    "# Run this to check previous results\n",
    "# This should not raise any error if you have done it right :\n",
    "assert tags[\"{http://www.tei-c.org/ns/1.0}div\"] == 1542\n",
    "assert tags[\"{http://www.tei-c.org/ns/1.0}l\"] == 9462"
   ]
  },
  {
   "cell_type": "markdown",
   "metadata": {},
   "source": [
    "## Going further\n",
    "\n",
    "- R. Alexander Milowski, \"Basics from Xpath\", http://courses.ischool.berkeley.edu/i290-14/s05/lecture-4/allslides.html"
   ]
  },
  {
   "cell_type": "markdown",
   "metadata": {},
   "source": [
    "-----"
   ]
  },
  {
   "cell_type": "code",
   "execution_count": null,
   "metadata": {
    "collapsed": false
   },
   "outputs": [],
   "source": [
    "# Don't worry about this cell, it's just here to make the page look nicer.\n",
    "\n",
    "from IPython.core.display import HTML\n",
    "def css_styling():\n",
    "    styles = open(\"styles/custom.css\", \"r\").read()\n",
    "    return HTML(styles)\n",
    "css_styling()"
   ]
  },
  {
   "cell_type": "markdown",
   "metadata": {},
   "source": [
    "---"
   ]
  },
  {
   "cell_type": "markdown",
   "metadata": {},
   "source": [
    "<p><small><a rel=\"license\" href=\"http://creativecommons.org/licenses/by-sa/4.0/\"><img alt=\"Creative Commons License\" style=\"border-width:0\" src=\"https://i.creativecommons.org/l/by-sa/4.0/88x31.png\" /></a><br /><span xmlns:dct=\"http://purl.org/dc/terms/\" property=\"dct:title\">Python Programming for the Humanities</span> by <a xmlns:cc=\"http://creativecommons.org/ns#\" href=\"http://fbkarsdorp.github.io/python-course\" property=\"cc:attributionName\" rel=\"cc:attributionURL\">http://fbkarsdorp.github.io/python-course</a> is licensed under a <a rel=\"license\" href=\"http://creativecommons.org/licenses/by-sa/4.0/\">Creative Commons Attribution-ShareAlike 4.0 International License</a>. Based on a work at <a xmlns:dct=\"http://purl.org/dc/terms/\" href=\"https://github.com/fbkarsdorp/python-course\" rel=\"dct:source\">https://github.com/fbkarsdorp/python-course</a>.</small></p>"
   ]
  }
 ],
 "metadata": {
  "kernelspec": {
   "display_name": "Python 3",
   "language": "python",
   "name": "python3"
  },
  "language_info": {
   "codemirror_mode": {
    "name": "ipython",
    "version": 3
   },
   "file_extension": ".py",
   "mimetype": "text/x-python",
   "name": "python",
   "nbconvert_exporter": "python",
   "pygments_lexer": "ipython3",
   "version": "3.4.3"
  }
 },
 "nbformat": 4,
 "nbformat_minor": 0
}
